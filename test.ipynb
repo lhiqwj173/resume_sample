{
 "cells": [
  {
   "cell_type": "code",
   "execution_count": 1,
   "metadata": {},
   "outputs": [],
   "source": [
    "import torch\n",
    "from resume_sample import ResumeSample"
   ]
  },
  {
   "cell_type": "code",
   "execution_count": 2,
   "metadata": {},
   "outputs": [
    {
     "name": "stdout",
     "output_type": "stream",
     "text": [
      "数据长度: 16\n"
     ]
    }
   ],
   "source": [
    "# 随机生成数据\n",
    "class Dataset(torch.utils.data.Dataset):\n",
    "    def __init__(self, length=1000):\n",
    "        self.x = torch.randn(length)\n",
    "        self.y = torch.randn(length)\n",
    "\n",
    "    def __len__(self):\n",
    "        return len(self.x)\n",
    "\n",
    "    def __getitem__(self,index):\n",
    "        print(f'数据索引: {index}')\n",
    "        return self.x[index], self.y[index]\n",
    "data = Dataset(16)\n",
    "print(f'数据长度: {len(data)}')"
   ]
  },
  {
   "cell_type": "code",
   "execution_count": 3,
   "metadata": {},
   "outputs": [],
   "source": [
    "sampler_state_dict = None"
   ]
  },
  {
   "cell_type": "markdown",
   "metadata": {},
   "source": [
    "# 顺序样本测试"
   ]
  },
  {
   "cell_type": "code",
   "execution_count": 4,
   "metadata": {},
   "outputs": [
    {
     "name": "stdout",
     "output_type": "stream",
     "text": [
      "数据索引: 0\n",
      "数据索引: 1\n",
      "数据索引: 2\n",
      "数据索引: 3\n",
      "数据索引: 4\n",
      "0 tensor([-1.4413, -0.3407,  0.3794,  1.4946, -0.1115]) tensor([-0.0023,  0.3238,  0.6431, -1.0545,  0.9353])\n",
      "数据索引: 5\n",
      "数据索引: 6\n",
      "数据索引: 7\n",
      "数据索引: 8\n",
      "数据索引: 9\n",
      "1 tensor([ 0.0794, -1.9216,  0.7846,  1.6629,  0.3358]) tensor([ 0.5255, -1.6532, -1.8308, -0.2313, -1.1001])\n",
      "备份训练迭代\n",
      "停止训练\n"
     ]
    }
   ],
   "source": [
    "sampler = ResumeSample(length=len(data), shuffle=False)\n",
    "data_loader = torch.utils.data.DataLoader(dataset=data, batch_size=5, sampler=sampler)\n",
    "\n",
    "# 初次训练\n",
    "for i, (x, y) in enumerate(data_loader):\n",
    "    print(i, x, y)\n",
    "\n",
    "    if i%2 == 1 and i != 0:\n",
    "        print('备份训练迭代')\n",
    "        sampler_state_dict = data_loader.sampler.state_dict()\n",
    "        print('停止训练')\n",
    "        break"
   ]
  },
  {
   "cell_type": "code",
   "execution_count": 5,
   "metadata": {},
   "outputs": [
    {
     "name": "stdout",
     "output_type": "stream",
     "text": [
      "数据索引: 10\n",
      "数据索引: 11\n",
      "数据索引: 12\n",
      "数据索引: 13\n",
      "数据索引: 14\n",
      "0 tensor([ 0.7375,  0.6655, -0.4957,  1.8969,  0.4991]) tensor([ 1.0279, -0.5950,  0.6390, -1.1676,  0.0091])\n",
      "数据索引: 15\n",
      "1 tensor([1.2592]) tensor([-2.9921])\n"
     ]
    }
   ],
   "source": [
    "# 恢复参数\n",
    "sampler2 = ResumeSample()\n",
    "sampler2.load_state_dict(sampler_state_dict)\n",
    "data_loader = torch.utils.data.DataLoader(dataset=data, batch_size=5, sampler=sampler)\n",
    "\n",
    "# 恢复训练\n",
    "for i, (x, y) in enumerate(data_loader):\n",
    "    print(i, x, y)\n"
   ]
  },
  {
   "cell_type": "markdown",
   "metadata": {},
   "source": [
    "# 随机样本测试"
   ]
  },
  {
   "cell_type": "code",
   "execution_count": 6,
   "metadata": {},
   "outputs": [
    {
     "name": "stdout",
     "output_type": "stream",
     "text": [
      "数据索引: 8\n",
      "数据索引: 5\n",
      "数据索引: 3\n",
      "数据索引: 13\n",
      "数据索引: 12\n",
      "0 tensor([ 1.6629,  0.0794,  1.4946,  1.8969, -0.4957]) tensor([-0.2313,  0.5255, -1.0545, -1.1676,  0.6390])\n",
      "数据索引: 1\n",
      "数据索引: 4\n",
      "数据索引: 7\n",
      "数据索引: 11\n",
      "数据索引: 10\n",
      "1 tensor([-0.3407, -0.1115,  0.7846,  0.6655,  0.7375]) tensor([ 0.3238,  0.9353, -1.8308, -0.5950,  1.0279])\n",
      "备份训练迭代\n",
      "停止训练\n"
     ]
    }
   ],
   "source": [
    "sampler = ResumeSample(length=len(data), shuffle=True)\n",
    "data_loader = torch.utils.data.DataLoader(dataset=data, batch_size=5, sampler=sampler)\n",
    "\n",
    "# 初次训练\n",
    "for i, (x, y) in enumerate(data_loader):\n",
    "    print(i, x, y)\n",
    "\n",
    "    if i%2 == 1 and i != 0:\n",
    "        print('备份训练迭代')\n",
    "        sampler_state_dict = data_loader.sampler.state_dict()\n",
    "        print('停止训练')\n",
    "        break"
   ]
  },
  {
   "cell_type": "code",
   "execution_count": 7,
   "metadata": {},
   "outputs": [
    {
     "name": "stdout",
     "output_type": "stream",
     "text": [
      "数据索引: 9\n",
      "数据索引: 14\n",
      "数据索引: 0\n",
      "数据索引: 6\n",
      "数据索引: 15\n",
      "0 tensor([ 0.3358,  0.4991, -1.4413, -1.9216,  1.2592]) tensor([-1.1001e+00,  9.0639e-03, -2.3096e-03, -1.6532e+00, -2.9921e+00])\n",
      "数据索引: 2\n",
      "1 tensor([0.3794]) tensor([0.6431])\n"
     ]
    }
   ],
   "source": [
    "# 恢复参数\n",
    "sampler2 = ResumeSample()\n",
    "sampler2.load_state_dict(sampler_state_dict)\n",
    "data_loader = torch.utils.data.DataLoader(dataset=data, batch_size=5, sampler=sampler)\n",
    "\n",
    "# 恢复训练\n",
    "for i, (x, y) in enumerate(data_loader):\n",
    "    print(i, x, y)\n"
   ]
  }
 ],
 "metadata": {
  "kernelspec": {
   "display_name": "ml",
   "language": "python",
   "name": "python3"
  },
  "language_info": {
   "codemirror_mode": {
    "name": "ipython",
    "version": 3
   },
   "file_extension": ".py",
   "mimetype": "text/x-python",
   "name": "python",
   "nbconvert_exporter": "python",
   "pygments_lexer": "ipython3",
   "version": "3.9.18"
  },
  "orig_nbformat": 4
 },
 "nbformat": 4,
 "nbformat_minor": 2
}
